{
  "nbformat": 4,
  "nbformat_minor": 0,
  "metadata": {
    "colab": {
      "provenance": [],
      "collapsed_sections": [],
      "mount_file_id": "1zthoqn7qcMxLs9XL7PKjMMUz_onp8el7",
      "authorship_tag": "ABX9TyNuuIwFD6u7cAsOVJeyYePt",
      "include_colab_link": true
    },
    "kernelspec": {
      "name": "python3",
      "display_name": "Python 3"
    },
    "language_info": {
      "name": "python"
    }
  },
  "cells": [
    {
      "cell_type": "markdown",
      "metadata": {
        "id": "view-in-github",
        "colab_type": "text"
      },
      "source": [
        "<a href=\"https://colab.research.google.com/github/Muhammadabuabakr/Asessment-Analysis/blob/main/DataPreprocessing.ipynb\" target=\"_parent\"><img src=\"https://colab.research.google.com/assets/colab-badge.svg\" alt=\"Open In Colab\"/></a>"
      ]
    },
    {
      "cell_type": "code",
      "execution_count": 2,
      "metadata": {
        "colab": {
          "base_uri": "https://localhost:8080/"
        },
        "id": "fRBLQb8QXpwa",
        "outputId": "a916780a-06cf-48b0-ad43-20b23c65eec1"
      },
      "outputs": [
        {
          "output_type": "stream",
          "name": "stdout",
          "text": [
            "Drive already mounted at /content/drive; to attempt to forcibly remount, call drive.mount(\"/content/drive\", force_remount=True).\n"
          ]
        },
        {
          "output_type": "stream",
          "name": "stderr",
          "text": [
            "/usr/local/lib/python3.7/dist-packages/IPython/core/interactiveshell.py:3326: DtypeWarning: Columns (34,37,38,80,82,83,89,90) have mixed types.Specify dtype option on import or set low_memory=False.\n",
            "  exec(code_obj, self.user_global_ns, self.user_ns)\n"
          ]
        }
      ],
      "source": [
        "from google.colab import drive\n",
        "drive.mount('/content/drive')\n",
        "import pandas as pd \n",
        "import numpy as np \n",
        "path = \"/content/drive/MyDrive/Colab Notebooks/Bondora_raw.csv\"\n",
        "missing_value = [\"n/a\",\"na\",\"--\",\" \"]\n",
        "data = pd.read_csv(path, na_values = missing_value)\n",
        "np.random.seed(0)"
      ]
    },
    {
      "cell_type": "code",
      "source": [
        "data.head()"
      ],
      "metadata": {
        "colab": {
          "base_uri": "https://localhost:8080/",
          "height": 552
        },
        "id": "ffyu5kpcch_B",
        "outputId": "aeb50d92-e23f-4149-e906-f98c95eac521"
      },
      "execution_count": 6,
      "outputs": [
        {
          "output_type": "execute_result",
          "data": {
            "text/plain": [
              "  ReportAsOfEOD                                LoanId  LoanNumber  \\\n",
              "0    2020-01-27  F0660C80-83F3-4A97-8DA0-9C250112D6EC         659   \n",
              "1    2020-01-27  978BB85B-1C69-4D51-8447-9C240104A3A2         654   \n",
              "2    2020-01-27  EA44027E-7FA7-4BB2-846D-9C1F013C8A22         641   \n",
              "3    2020-01-27  CE67AD25-2951-4BEE-96BD-9C2700C61EF4         668   \n",
              "4    2020-01-27  9408BF8C-B159-4D6A-9D61-9C2400A986E3         652   \n",
              "\n",
              "           ListedOnUTC     BiddingStartedOn  BidsPortfolioManager  BidsApi  \\\n",
              "0  2009-06-11 16:40:39  2009-06-11 16:40:39                     0        0   \n",
              "1  2009-06-10 15:48:57  2009-06-10 15:48:57                     0        0   \n",
              "2  2009-06-05 19:12:29  2009-06-05 19:12:29                     0        0   \n",
              "3  2009-06-13 12:01:20  2009-06-13 12:01:20                     0        0   \n",
              "4  2009-06-10 10:17:13  2009-06-10 10:17:13                     0        0   \n",
              "\n",
              "   BidsManual  UserName  NewCreditCustomer  ...  \\\n",
              "0    115.0410      KARU               True  ...   \n",
              "1    140.6057  koort681              False  ...   \n",
              "2    319.5580       0ie               True  ...   \n",
              "3     57.5205    Alyona               True  ...   \n",
              "4    319.5582       Kai               True  ...   \n",
              "\n",
              "  PreviousEarlyRepaymentsCountBeforeLoan GracePeriodStart GracePeriodEnd  \\\n",
              "0                                      0              NaN            NaN   \n",
              "1                                      0              NaN            NaN   \n",
              "2                                      0              NaN            NaN   \n",
              "3                                      0              NaN            NaN   \n",
              "4                                      0              NaN            NaN   \n",
              "\n",
              "  NextPaymentDate NextPaymentNr NrOfScheduledPayments  ReScheduledOn  \\\n",
              "0             NaN           NaN                   NaN            NaN   \n",
              "1             NaN           NaN                   NaN            NaN   \n",
              "2             NaN           NaN                   NaN            NaN   \n",
              "3             NaN           NaN                   NaN            NaN   \n",
              "4             NaN           NaN                   NaN            NaN   \n",
              "\n",
              "   PrincipalDebtServicingCost  InterestAndPenaltyDebtServicingCost  \\\n",
              "0                         0.0                                  0.0   \n",
              "1                         0.0                                  0.0   \n",
              "2                         0.0                                  0.0   \n",
              "3                         0.0                                  0.0   \n",
              "4                         0.0                                  0.0   \n",
              "\n",
              "   ActiveLateLastPaymentCategory  \n",
              "0                            NaN  \n",
              "1                            NaN  \n",
              "2                           180+  \n",
              "3                            NaN  \n",
              "4                           180+  \n",
              "\n",
              "[5 rows x 112 columns]"
            ],
            "text/html": [
              "\n",
              "  <div id=\"df-7fd529c6-62ed-40b1-9b2b-0d2385a86d80\">\n",
              "    <div class=\"colab-df-container\">\n",
              "      <div>\n",
              "<style scoped>\n",
              "    .dataframe tbody tr th:only-of-type {\n",
              "        vertical-align: middle;\n",
              "    }\n",
              "\n",
              "    .dataframe tbody tr th {\n",
              "        vertical-align: top;\n",
              "    }\n",
              "\n",
              "    .dataframe thead th {\n",
              "        text-align: right;\n",
              "    }\n",
              "</style>\n",
              "<table border=\"1\" class=\"dataframe\">\n",
              "  <thead>\n",
              "    <tr style=\"text-align: right;\">\n",
              "      <th></th>\n",
              "      <th>ReportAsOfEOD</th>\n",
              "      <th>LoanId</th>\n",
              "      <th>LoanNumber</th>\n",
              "      <th>ListedOnUTC</th>\n",
              "      <th>BiddingStartedOn</th>\n",
              "      <th>BidsPortfolioManager</th>\n",
              "      <th>BidsApi</th>\n",
              "      <th>BidsManual</th>\n",
              "      <th>UserName</th>\n",
              "      <th>NewCreditCustomer</th>\n",
              "      <th>...</th>\n",
              "      <th>PreviousEarlyRepaymentsCountBeforeLoan</th>\n",
              "      <th>GracePeriodStart</th>\n",
              "      <th>GracePeriodEnd</th>\n",
              "      <th>NextPaymentDate</th>\n",
              "      <th>NextPaymentNr</th>\n",
              "      <th>NrOfScheduledPayments</th>\n",
              "      <th>ReScheduledOn</th>\n",
              "      <th>PrincipalDebtServicingCost</th>\n",
              "      <th>InterestAndPenaltyDebtServicingCost</th>\n",
              "      <th>ActiveLateLastPaymentCategory</th>\n",
              "    </tr>\n",
              "  </thead>\n",
              "  <tbody>\n",
              "    <tr>\n",
              "      <th>0</th>\n",
              "      <td>2020-01-27</td>\n",
              "      <td>F0660C80-83F3-4A97-8DA0-9C250112D6EC</td>\n",
              "      <td>659</td>\n",
              "      <td>2009-06-11 16:40:39</td>\n",
              "      <td>2009-06-11 16:40:39</td>\n",
              "      <td>0</td>\n",
              "      <td>0</td>\n",
              "      <td>115.0410</td>\n",
              "      <td>KARU</td>\n",
              "      <td>True</td>\n",
              "      <td>...</td>\n",
              "      <td>0</td>\n",
              "      <td>NaN</td>\n",
              "      <td>NaN</td>\n",
              "      <td>NaN</td>\n",
              "      <td>NaN</td>\n",
              "      <td>NaN</td>\n",
              "      <td>NaN</td>\n",
              "      <td>0.0</td>\n",
              "      <td>0.0</td>\n",
              "      <td>NaN</td>\n",
              "    </tr>\n",
              "    <tr>\n",
              "      <th>1</th>\n",
              "      <td>2020-01-27</td>\n",
              "      <td>978BB85B-1C69-4D51-8447-9C240104A3A2</td>\n",
              "      <td>654</td>\n",
              "      <td>2009-06-10 15:48:57</td>\n",
              "      <td>2009-06-10 15:48:57</td>\n",
              "      <td>0</td>\n",
              "      <td>0</td>\n",
              "      <td>140.6057</td>\n",
              "      <td>koort681</td>\n",
              "      <td>False</td>\n",
              "      <td>...</td>\n",
              "      <td>0</td>\n",
              "      <td>NaN</td>\n",
              "      <td>NaN</td>\n",
              "      <td>NaN</td>\n",
              "      <td>NaN</td>\n",
              "      <td>NaN</td>\n",
              "      <td>NaN</td>\n",
              "      <td>0.0</td>\n",
              "      <td>0.0</td>\n",
              "      <td>NaN</td>\n",
              "    </tr>\n",
              "    <tr>\n",
              "      <th>2</th>\n",
              "      <td>2020-01-27</td>\n",
              "      <td>EA44027E-7FA7-4BB2-846D-9C1F013C8A22</td>\n",
              "      <td>641</td>\n",
              "      <td>2009-06-05 19:12:29</td>\n",
              "      <td>2009-06-05 19:12:29</td>\n",
              "      <td>0</td>\n",
              "      <td>0</td>\n",
              "      <td>319.5580</td>\n",
              "      <td>0ie</td>\n",
              "      <td>True</td>\n",
              "      <td>...</td>\n",
              "      <td>0</td>\n",
              "      <td>NaN</td>\n",
              "      <td>NaN</td>\n",
              "      <td>NaN</td>\n",
              "      <td>NaN</td>\n",
              "      <td>NaN</td>\n",
              "      <td>NaN</td>\n",
              "      <td>0.0</td>\n",
              "      <td>0.0</td>\n",
              "      <td>180+</td>\n",
              "    </tr>\n",
              "    <tr>\n",
              "      <th>3</th>\n",
              "      <td>2020-01-27</td>\n",
              "      <td>CE67AD25-2951-4BEE-96BD-9C2700C61EF4</td>\n",
              "      <td>668</td>\n",
              "      <td>2009-06-13 12:01:20</td>\n",
              "      <td>2009-06-13 12:01:20</td>\n",
              "      <td>0</td>\n",
              "      <td>0</td>\n",
              "      <td>57.5205</td>\n",
              "      <td>Alyona</td>\n",
              "      <td>True</td>\n",
              "      <td>...</td>\n",
              "      <td>0</td>\n",
              "      <td>NaN</td>\n",
              "      <td>NaN</td>\n",
              "      <td>NaN</td>\n",
              "      <td>NaN</td>\n",
              "      <td>NaN</td>\n",
              "      <td>NaN</td>\n",
              "      <td>0.0</td>\n",
              "      <td>0.0</td>\n",
              "      <td>NaN</td>\n",
              "    </tr>\n",
              "    <tr>\n",
              "      <th>4</th>\n",
              "      <td>2020-01-27</td>\n",
              "      <td>9408BF8C-B159-4D6A-9D61-9C2400A986E3</td>\n",
              "      <td>652</td>\n",
              "      <td>2009-06-10 10:17:13</td>\n",
              "      <td>2009-06-10 10:17:13</td>\n",
              "      <td>0</td>\n",
              "      <td>0</td>\n",
              "      <td>319.5582</td>\n",
              "      <td>Kai</td>\n",
              "      <td>True</td>\n",
              "      <td>...</td>\n",
              "      <td>0</td>\n",
              "      <td>NaN</td>\n",
              "      <td>NaN</td>\n",
              "      <td>NaN</td>\n",
              "      <td>NaN</td>\n",
              "      <td>NaN</td>\n",
              "      <td>NaN</td>\n",
              "      <td>0.0</td>\n",
              "      <td>0.0</td>\n",
              "      <td>180+</td>\n",
              "    </tr>\n",
              "  </tbody>\n",
              "</table>\n",
              "<p>5 rows × 112 columns</p>\n",
              "</div>\n",
              "      <button class=\"colab-df-convert\" onclick=\"convertToInteractive('df-7fd529c6-62ed-40b1-9b2b-0d2385a86d80')\"\n",
              "              title=\"Convert this dataframe to an interactive table.\"\n",
              "              style=\"display:none;\">\n",
              "        \n",
              "  <svg xmlns=\"http://www.w3.org/2000/svg\" height=\"24px\"viewBox=\"0 0 24 24\"\n",
              "       width=\"24px\">\n",
              "    <path d=\"M0 0h24v24H0V0z\" fill=\"none\"/>\n",
              "    <path d=\"M18.56 5.44l.94 2.06.94-2.06 2.06-.94-2.06-.94-.94-2.06-.94 2.06-2.06.94zm-11 1L8.5 8.5l.94-2.06 2.06-.94-2.06-.94L8.5 2.5l-.94 2.06-2.06.94zm10 10l.94 2.06.94-2.06 2.06-.94-2.06-.94-.94-2.06-.94 2.06-2.06.94z\"/><path d=\"M17.41 7.96l-1.37-1.37c-.4-.4-.92-.59-1.43-.59-.52 0-1.04.2-1.43.59L10.3 9.45l-7.72 7.72c-.78.78-.78 2.05 0 2.83L4 21.41c.39.39.9.59 1.41.59.51 0 1.02-.2 1.41-.59l7.78-7.78 2.81-2.81c.8-.78.8-2.07 0-2.86zM5.41 20L4 18.59l7.72-7.72 1.47 1.35L5.41 20z\"/>\n",
              "  </svg>\n",
              "      </button>\n",
              "      \n",
              "  <style>\n",
              "    .colab-df-container {\n",
              "      display:flex;\n",
              "      flex-wrap:wrap;\n",
              "      gap: 12px;\n",
              "    }\n",
              "\n",
              "    .colab-df-convert {\n",
              "      background-color: #E8F0FE;\n",
              "      border: none;\n",
              "      border-radius: 50%;\n",
              "      cursor: pointer;\n",
              "      display: none;\n",
              "      fill: #1967D2;\n",
              "      height: 32px;\n",
              "      padding: 0 0 0 0;\n",
              "      width: 32px;\n",
              "    }\n",
              "\n",
              "    .colab-df-convert:hover {\n",
              "      background-color: #E2EBFA;\n",
              "      box-shadow: 0px 1px 2px rgba(60, 64, 67, 0.3), 0px 1px 3px 1px rgba(60, 64, 67, 0.15);\n",
              "      fill: #174EA6;\n",
              "    }\n",
              "\n",
              "    [theme=dark] .colab-df-convert {\n",
              "      background-color: #3B4455;\n",
              "      fill: #D2E3FC;\n",
              "    }\n",
              "\n",
              "    [theme=dark] .colab-df-convert:hover {\n",
              "      background-color: #434B5C;\n",
              "      box-shadow: 0px 1px 3px 1px rgba(0, 0, 0, 0.15);\n",
              "      filter: drop-shadow(0px 1px 2px rgba(0, 0, 0, 0.3));\n",
              "      fill: #FFFFFF;\n",
              "    }\n",
              "  </style>\n",
              "\n",
              "      <script>\n",
              "        const buttonEl =\n",
              "          document.querySelector('#df-7fd529c6-62ed-40b1-9b2b-0d2385a86d80 button.colab-df-convert');\n",
              "        buttonEl.style.display =\n",
              "          google.colab.kernel.accessAllowed ? 'block' : 'none';\n",
              "\n",
              "        async function convertToInteractive(key) {\n",
              "          const element = document.querySelector('#df-7fd529c6-62ed-40b1-9b2b-0d2385a86d80');\n",
              "          const dataTable =\n",
              "            await google.colab.kernel.invokeFunction('convertToInteractive',\n",
              "                                                     [key], {});\n",
              "          if (!dataTable) return;\n",
              "\n",
              "          const docLinkHtml = 'Like what you see? Visit the ' +\n",
              "            '<a target=\"_blank\" href=https://colab.research.google.com/notebooks/data_table.ipynb>data table notebook</a>'\n",
              "            + ' to learn more about interactive tables.';\n",
              "          element.innerHTML = '';\n",
              "          dataTable['output_type'] = 'display_data';\n",
              "          await google.colab.output.renderOutput(dataTable, element);\n",
              "          const docLink = document.createElement('div');\n",
              "          docLink.innerHTML = docLinkHtml;\n",
              "          element.appendChild(docLink);\n",
              "        }\n",
              "      </script>\n",
              "    </div>\n",
              "  </div>\n",
              "  "
            ]
          },
          "metadata": {},
          "execution_count": 6
        }
      ]
    },
    {
      "cell_type": "code",
      "source": [
        "missing_count = data.isnull().sum()\n",
        "total_mv = data.isnull().sum().sum()\n",
        "print (\"missing count =\", missing_count)\n",
        "print (\"Toltal missing value =\", total_mv)"
      ],
      "metadata": {
        "colab": {
          "base_uri": "https://localhost:8080/"
        },
        "id": "V2-i3sGIezKM",
        "outputId": "ab726484-2ac3-4afc-cb35-dd7c414ea722"
      },
      "execution_count": 7,
      "outputs": [
        {
          "output_type": "stream",
          "name": "stdout",
          "text": [
            "missing count = ReportAsOfEOD                              0\n",
            "LoanId                                     0\n",
            "LoanNumber                                 0\n",
            "ListedOnUTC                                0\n",
            "BiddingStartedOn                           0\n",
            "                                       ...  \n",
            "NrOfScheduledPayments                  36741\n",
            "ReScheduledOn                          94207\n",
            "PrincipalDebtServicingCost             75400\n",
            "InterestAndPenaltyDebtServicingCost    75400\n",
            "ActiveLateLastPaymentCategory          82279\n",
            "Length: 112, dtype: int64\n",
            "Toltal missing value = 3672641\n"
          ]
        }
      ]
    },
    {
      "cell_type": "code",
      "source": [
        "#now we find the percentage of null value from data\n",
        "cells = np.product(data.shape)\n",
        "print (cells)\n",
        "total_missing = missing_count.sum()\n",
        "perc_null = (total_missing / cells)*100\n",
        "print (perc_null)"
      ],
      "metadata": {
        "colab": {
          "base_uri": "https://localhost:8080/"
        },
        "id": "m9VuuGTig-3D",
        "outputId": "fa9fe3b0-2d43-4f97-c7a2-943d74acf61f"
      },
      "execution_count": 8,
      "outputs": [
        {
          "output_type": "stream",
          "name": "stdout",
          "text": [
            "15067248\n",
            "24.374995354161555\n"
          ]
        }
      ]
    },
    {
      "cell_type": "code",
      "source": [
        "column_nan = data.dropna(axis = 1)\n",
        "column_nan.head()"
      ],
      "metadata": {
        "colab": {
          "base_uri": "https://localhost:8080/",
          "height": 552
        },
        "id": "epf7SOUWj-bO",
        "outputId": "2aadf471-3758-4278-e78e-a5af80c2a903"
      },
      "execution_count": 9,
      "outputs": [
        {
          "output_type": "execute_result",
          "data": {
            "text/plain": [
              "  ReportAsOfEOD                                LoanId  LoanNumber  \\\n",
              "0    2020-01-27  F0660C80-83F3-4A97-8DA0-9C250112D6EC         659   \n",
              "1    2020-01-27  978BB85B-1C69-4D51-8447-9C240104A3A2         654   \n",
              "2    2020-01-27  EA44027E-7FA7-4BB2-846D-9C1F013C8A22         641   \n",
              "3    2020-01-27  CE67AD25-2951-4BEE-96BD-9C2700C61EF4         668   \n",
              "4    2020-01-27  9408BF8C-B159-4D6A-9D61-9C2400A986E3         652   \n",
              "\n",
              "           ListedOnUTC     BiddingStartedOn  BidsPortfolioManager  BidsApi  \\\n",
              "0  2009-06-11 16:40:39  2009-06-11 16:40:39                     0        0   \n",
              "1  2009-06-10 15:48:57  2009-06-10 15:48:57                     0        0   \n",
              "2  2009-06-05 19:12:29  2009-06-05 19:12:29                     0        0   \n",
              "3  2009-06-13 12:01:20  2009-06-13 12:01:20                     0        0   \n",
              "4  2009-06-10 10:17:13  2009-06-10 10:17:13                     0        0   \n",
              "\n",
              "   BidsManual  UserName  NewCreditCustomer  ...  \\\n",
              "0    115.0410      KARU               True  ...   \n",
              "1    140.6057  koort681              False  ...   \n",
              "2    319.5580       0ie               True  ...   \n",
              "3     57.5205    Alyona               True  ...   \n",
              "4    319.5582       Kai               True  ...   \n",
              "\n",
              "  ActiveScheduleFirstPaymentReached  Status Restructured  \\\n",
              "0                              True  Repaid        False   \n",
              "1                              True  Repaid        False   \n",
              "2                              True    Late         True   \n",
              "3                              True  Repaid        False   \n",
              "4                              True  Repaid        False   \n",
              "\n",
              "  PrincipalPaymentsMade InterestAndPenaltyPaymentsMade  PrincipalBalance  \\\n",
              "0              115.0408                        20.4222              0.00   \n",
              "1              140.6057                         2.0227              0.00   \n",
              "2              203.1909                        59.7626            116.35   \n",
              "3               57.5205                        18.7323              0.00   \n",
              "4              319.5436                       220.4200              0.00   \n",
              "\n",
              "   InterestAndPenaltyBalance  NoOfPreviousLoansBeforeLoan  \\\n",
              "0                       0.00                            1   \n",
              "1                       0.00                            2   \n",
              "2                     414.07                            0   \n",
              "3                       0.00                            1   \n",
              "4                       0.00                            1   \n",
              "\n",
              "   AmountOfPreviousLoansBeforeLoan PreviousEarlyRepaymentsCountBeforeLoan  \n",
              "0                          83.0852                                      0  \n",
              "1                         255.6467                                      0  \n",
              "2                           0.0000                                      0  \n",
              "3                         134.2144                                      0  \n",
              "4                         146.9966                                      0  \n",
              "\n",
              "[5 rows x 48 columns]"
            ],
            "text/html": [
              "\n",
              "  <div id=\"df-2c57fa88-de97-4424-93e6-5f5fbdea24d7\">\n",
              "    <div class=\"colab-df-container\">\n",
              "      <div>\n",
              "<style scoped>\n",
              "    .dataframe tbody tr th:only-of-type {\n",
              "        vertical-align: middle;\n",
              "    }\n",
              "\n",
              "    .dataframe tbody tr th {\n",
              "        vertical-align: top;\n",
              "    }\n",
              "\n",
              "    .dataframe thead th {\n",
              "        text-align: right;\n",
              "    }\n",
              "</style>\n",
              "<table border=\"1\" class=\"dataframe\">\n",
              "  <thead>\n",
              "    <tr style=\"text-align: right;\">\n",
              "      <th></th>\n",
              "      <th>ReportAsOfEOD</th>\n",
              "      <th>LoanId</th>\n",
              "      <th>LoanNumber</th>\n",
              "      <th>ListedOnUTC</th>\n",
              "      <th>BiddingStartedOn</th>\n",
              "      <th>BidsPortfolioManager</th>\n",
              "      <th>BidsApi</th>\n",
              "      <th>BidsManual</th>\n",
              "      <th>UserName</th>\n",
              "      <th>NewCreditCustomer</th>\n",
              "      <th>...</th>\n",
              "      <th>ActiveScheduleFirstPaymentReached</th>\n",
              "      <th>Status</th>\n",
              "      <th>Restructured</th>\n",
              "      <th>PrincipalPaymentsMade</th>\n",
              "      <th>InterestAndPenaltyPaymentsMade</th>\n",
              "      <th>PrincipalBalance</th>\n",
              "      <th>InterestAndPenaltyBalance</th>\n",
              "      <th>NoOfPreviousLoansBeforeLoan</th>\n",
              "      <th>AmountOfPreviousLoansBeforeLoan</th>\n",
              "      <th>PreviousEarlyRepaymentsCountBeforeLoan</th>\n",
              "    </tr>\n",
              "  </thead>\n",
              "  <tbody>\n",
              "    <tr>\n",
              "      <th>0</th>\n",
              "      <td>2020-01-27</td>\n",
              "      <td>F0660C80-83F3-4A97-8DA0-9C250112D6EC</td>\n",
              "      <td>659</td>\n",
              "      <td>2009-06-11 16:40:39</td>\n",
              "      <td>2009-06-11 16:40:39</td>\n",
              "      <td>0</td>\n",
              "      <td>0</td>\n",
              "      <td>115.0410</td>\n",
              "      <td>KARU</td>\n",
              "      <td>True</td>\n",
              "      <td>...</td>\n",
              "      <td>True</td>\n",
              "      <td>Repaid</td>\n",
              "      <td>False</td>\n",
              "      <td>115.0408</td>\n",
              "      <td>20.4222</td>\n",
              "      <td>0.00</td>\n",
              "      <td>0.00</td>\n",
              "      <td>1</td>\n",
              "      <td>83.0852</td>\n",
              "      <td>0</td>\n",
              "    </tr>\n",
              "    <tr>\n",
              "      <th>1</th>\n",
              "      <td>2020-01-27</td>\n",
              "      <td>978BB85B-1C69-4D51-8447-9C240104A3A2</td>\n",
              "      <td>654</td>\n",
              "      <td>2009-06-10 15:48:57</td>\n",
              "      <td>2009-06-10 15:48:57</td>\n",
              "      <td>0</td>\n",
              "      <td>0</td>\n",
              "      <td>140.6057</td>\n",
              "      <td>koort681</td>\n",
              "      <td>False</td>\n",
              "      <td>...</td>\n",
              "      <td>True</td>\n",
              "      <td>Repaid</td>\n",
              "      <td>False</td>\n",
              "      <td>140.6057</td>\n",
              "      <td>2.0227</td>\n",
              "      <td>0.00</td>\n",
              "      <td>0.00</td>\n",
              "      <td>2</td>\n",
              "      <td>255.6467</td>\n",
              "      <td>0</td>\n",
              "    </tr>\n",
              "    <tr>\n",
              "      <th>2</th>\n",
              "      <td>2020-01-27</td>\n",
              "      <td>EA44027E-7FA7-4BB2-846D-9C1F013C8A22</td>\n",
              "      <td>641</td>\n",
              "      <td>2009-06-05 19:12:29</td>\n",
              "      <td>2009-06-05 19:12:29</td>\n",
              "      <td>0</td>\n",
              "      <td>0</td>\n",
              "      <td>319.5580</td>\n",
              "      <td>0ie</td>\n",
              "      <td>True</td>\n",
              "      <td>...</td>\n",
              "      <td>True</td>\n",
              "      <td>Late</td>\n",
              "      <td>True</td>\n",
              "      <td>203.1909</td>\n",
              "      <td>59.7626</td>\n",
              "      <td>116.35</td>\n",
              "      <td>414.07</td>\n",
              "      <td>0</td>\n",
              "      <td>0.0000</td>\n",
              "      <td>0</td>\n",
              "    </tr>\n",
              "    <tr>\n",
              "      <th>3</th>\n",
              "      <td>2020-01-27</td>\n",
              "      <td>CE67AD25-2951-4BEE-96BD-9C2700C61EF4</td>\n",
              "      <td>668</td>\n",
              "      <td>2009-06-13 12:01:20</td>\n",
              "      <td>2009-06-13 12:01:20</td>\n",
              "      <td>0</td>\n",
              "      <td>0</td>\n",
              "      <td>57.5205</td>\n",
              "      <td>Alyona</td>\n",
              "      <td>True</td>\n",
              "      <td>...</td>\n",
              "      <td>True</td>\n",
              "      <td>Repaid</td>\n",
              "      <td>False</td>\n",
              "      <td>57.5205</td>\n",
              "      <td>18.7323</td>\n",
              "      <td>0.00</td>\n",
              "      <td>0.00</td>\n",
              "      <td>1</td>\n",
              "      <td>134.2144</td>\n",
              "      <td>0</td>\n",
              "    </tr>\n",
              "    <tr>\n",
              "      <th>4</th>\n",
              "      <td>2020-01-27</td>\n",
              "      <td>9408BF8C-B159-4D6A-9D61-9C2400A986E3</td>\n",
              "      <td>652</td>\n",
              "      <td>2009-06-10 10:17:13</td>\n",
              "      <td>2009-06-10 10:17:13</td>\n",
              "      <td>0</td>\n",
              "      <td>0</td>\n",
              "      <td>319.5582</td>\n",
              "      <td>Kai</td>\n",
              "      <td>True</td>\n",
              "      <td>...</td>\n",
              "      <td>True</td>\n",
              "      <td>Repaid</td>\n",
              "      <td>False</td>\n",
              "      <td>319.5436</td>\n",
              "      <td>220.4200</td>\n",
              "      <td>0.00</td>\n",
              "      <td>0.00</td>\n",
              "      <td>1</td>\n",
              "      <td>146.9966</td>\n",
              "      <td>0</td>\n",
              "    </tr>\n",
              "  </tbody>\n",
              "</table>\n",
              "<p>5 rows × 48 columns</p>\n",
              "</div>\n",
              "      <button class=\"colab-df-convert\" onclick=\"convertToInteractive('df-2c57fa88-de97-4424-93e6-5f5fbdea24d7')\"\n",
              "              title=\"Convert this dataframe to an interactive table.\"\n",
              "              style=\"display:none;\">\n",
              "        \n",
              "  <svg xmlns=\"http://www.w3.org/2000/svg\" height=\"24px\"viewBox=\"0 0 24 24\"\n",
              "       width=\"24px\">\n",
              "    <path d=\"M0 0h24v24H0V0z\" fill=\"none\"/>\n",
              "    <path d=\"M18.56 5.44l.94 2.06.94-2.06 2.06-.94-2.06-.94-.94-2.06-.94 2.06-2.06.94zm-11 1L8.5 8.5l.94-2.06 2.06-.94-2.06-.94L8.5 2.5l-.94 2.06-2.06.94zm10 10l.94 2.06.94-2.06 2.06-.94-2.06-.94-.94-2.06-.94 2.06-2.06.94z\"/><path d=\"M17.41 7.96l-1.37-1.37c-.4-.4-.92-.59-1.43-.59-.52 0-1.04.2-1.43.59L10.3 9.45l-7.72 7.72c-.78.78-.78 2.05 0 2.83L4 21.41c.39.39.9.59 1.41.59.51 0 1.02-.2 1.41-.59l7.78-7.78 2.81-2.81c.8-.78.8-2.07 0-2.86zM5.41 20L4 18.59l7.72-7.72 1.47 1.35L5.41 20z\"/>\n",
              "  </svg>\n",
              "      </button>\n",
              "      \n",
              "  <style>\n",
              "    .colab-df-container {\n",
              "      display:flex;\n",
              "      flex-wrap:wrap;\n",
              "      gap: 12px;\n",
              "    }\n",
              "\n",
              "    .colab-df-convert {\n",
              "      background-color: #E8F0FE;\n",
              "      border: none;\n",
              "      border-radius: 50%;\n",
              "      cursor: pointer;\n",
              "      display: none;\n",
              "      fill: #1967D2;\n",
              "      height: 32px;\n",
              "      padding: 0 0 0 0;\n",
              "      width: 32px;\n",
              "    }\n",
              "\n",
              "    .colab-df-convert:hover {\n",
              "      background-color: #E2EBFA;\n",
              "      box-shadow: 0px 1px 2px rgba(60, 64, 67, 0.3), 0px 1px 3px 1px rgba(60, 64, 67, 0.15);\n",
              "      fill: #174EA6;\n",
              "    }\n",
              "\n",
              "    [theme=dark] .colab-df-convert {\n",
              "      background-color: #3B4455;\n",
              "      fill: #D2E3FC;\n",
              "    }\n",
              "\n",
              "    [theme=dark] .colab-df-convert:hover {\n",
              "      background-color: #434B5C;\n",
              "      box-shadow: 0px 1px 3px 1px rgba(0, 0, 0, 0.15);\n",
              "      filter: drop-shadow(0px 1px 2px rgba(0, 0, 0, 0.3));\n",
              "      fill: #FFFFFF;\n",
              "    }\n",
              "  </style>\n",
              "\n",
              "      <script>\n",
              "        const buttonEl =\n",
              "          document.querySelector('#df-2c57fa88-de97-4424-93e6-5f5fbdea24d7 button.colab-df-convert');\n",
              "        buttonEl.style.display =\n",
              "          google.colab.kernel.accessAllowed ? 'block' : 'none';\n",
              "\n",
              "        async function convertToInteractive(key) {\n",
              "          const element = document.querySelector('#df-2c57fa88-de97-4424-93e6-5f5fbdea24d7');\n",
              "          const dataTable =\n",
              "            await google.colab.kernel.invokeFunction('convertToInteractive',\n",
              "                                                     [key], {});\n",
              "          if (!dataTable) return;\n",
              "\n",
              "          const docLinkHtml = 'Like what you see? Visit the ' +\n",
              "            '<a target=\"_blank\" href=https://colab.research.google.com/notebooks/data_table.ipynb>data table notebook</a>'\n",
              "            + ' to learn more about interactive tables.';\n",
              "          element.innerHTML = '';\n",
              "          dataTable['output_type'] = 'display_data';\n",
              "          await google.colab.output.renderOutput(dataTable, element);\n",
              "          const docLink = document.createElement('div');\n",
              "          docLink.innerHTML = docLinkHtml;\n",
              "          element.appendChild(docLink);\n",
              "        }\n",
              "      </script>\n",
              "    </div>\n",
              "  </div>\n",
              "  "
            ]
          },
          "metadata": {},
          "execution_count": 9
        }
      ]
    },
    {
      "cell_type": "code",
      "source": [
        "print(\"Columns in original dataset: %d \\n\" % data.shape[1])\n",
        "print(\"Columns with na's dropped: %d\" % column_nan.shape[1])"
      ],
      "metadata": {
        "colab": {
          "base_uri": "https://localhost:8080/"
        },
        "id": "zD8Ogw81NYGr",
        "outputId": "a4c411f2-ea1c-431b-9651-8f93fe9a25a1"
      },
      "execution_count": 10,
      "outputs": [
        {
          "output_type": "stream",
          "name": "stdout",
          "text": [
            "Columns in original dataset: 112 \n",
            "\n",
            "Columns with na's dropped: 48\n"
          ]
        }
      ]
    },
    {
      "cell_type": "code",
      "source": [
        "x = data[\"Age\"].mean()\n",
        "data[\"Age\"].fillna(x)"
      ],
      "metadata": {
        "colab": {
          "base_uri": "https://localhost:8080/"
        },
        "id": "_fPCz5vYax01",
        "outputId": "e481df83-19a2-422f-ceec-e444e6efb151"
      },
      "execution_count": 11,
      "outputs": [
        {
          "output_type": "execute_result",
          "data": {
            "text/plain": [
              "0         61\n",
              "1         48\n",
              "2         58\n",
              "3         23\n",
              "4         25\n",
              "          ..\n",
              "134524    37\n",
              "134525    35\n",
              "134526    40\n",
              "134527    47\n",
              "134528    21\n",
              "Name: Age, Length: 134529, dtype: int64"
            ]
          },
          "metadata": {},
          "execution_count": 11
        }
      ]
    },
    {
      "cell_type": "code",
      "source": [
        "cont1 = 0\n",
        "cont2 = 0\n",
        "cont3 = 0\n",
        "cont4= 0\n",
        "cont5 = 0\n",
        "cont_1 = 0\n",
        "for x in data[\"MaritalStatus\"]: \n",
        "  if (x == 1.0):\n",
        "    cont1 += 1\n",
        "  elif (x == 2.0):\n",
        "    cont2 += 1\n",
        "  elif (x == 3.0):\n",
        "    cont3 += 1\n",
        "  elif (x == 4.0):\n",
        "    cont4 += 1\n",
        "  elif (x == 5.0): \n",
        "    cont5 += 1\n",
        "  elif (x == -1.0):\n",
        "    cont_1 += 1\n",
        "print (\"Cont1 = \",cont1,\"Cont2 = \",cont2,\"Cont3 = \",cont3,\"Cont4 = \",cont4,\"Cont5 = \",cont5,\"Cont_1 = \",cont_1)"
      ],
      "metadata": {
        "colab": {
          "base_uri": "https://localhost:8080/"
        },
        "id": "BO3l7TDvos9v",
        "outputId": "86469522-0cad-4166-dba0-56855c50a840"
      },
      "execution_count": 25,
      "outputs": [
        {
          "output_type": "stream",
          "name": "stdout",
          "text": [
            "Cont1 =  10752 Cont2 =  9400 Cont3 =  110391 Cont4 =  3377 Cont5 =  601 Cont_1 =  0\n"
          ]
        }
      ]
    },
    {
      "cell_type": "code",
      "source": [
        "data[\"OccupationArea\"].hist()\n",
        "data[\"OccupationArea\"].replace(to_replace = -1.0,value = np.NaN, inplace = True)\n",
        "data[\"OccupationArea\"].isnull().sum()\n",
        "    \n",
        "    "
      ],
      "metadata": {
        "colab": {
          "base_uri": "https://localhost:8080/",
          "height": 282
        },
        "id": "vLN4QV2FpJ88",
        "outputId": "2bb894a5-c5d2-464e-db84-020185a3fbdc"
      },
      "execution_count": 64,
      "outputs": [
        {
          "output_type": "execute_result",
          "data": {
            "text/plain": [
              "98083"
            ]
          },
          "metadata": {},
          "execution_count": 64
        },
        {
          "output_type": "display_data",
          "data": {
            "text/plain": [
              "<Figure size 432x288 with 1 Axes>"
            ],
            "image/png": "[encoded data removed]"
          },
          "metadata": {
            "needs_background": "light"
          }
        }
      ]
    },
    {
      "cell_type": "code",
      "source": [
        "attr_list = [\"VerificationType\",\"Gender\",\"Education\",\"EmploymentPosition\",\"EmploymentStatus\",\"MaritalStatus\",\"HomeOwnershipType\",\"OccupationArea\",\"ContractEndDate\",\"RecoveryStage\",\"ModelVersion\",\"Rating\",\"Rating_V0\",\"Rating_V1\",\"Rating_V2\",\"ActiveLateCategory\",\"WorseLateCategory\",\"CreditScoreEsMicroL\",\"CreditScoreEsEquifaxRisk\",\"EmploymentDurationCurrentEmployer\",\"NrOfDependants\"]\n",
        "for i in attr_list:\n",
        "  mode_of_Attr = data[i].mode()[0]\n",
        "  print (mode_of_Attr)\n",
        "  data[i].fillna(mode_of_Attr, inplace = True)\n",
        "  print (i,\"= \",data[i].isnull().sum())\n",
        "  "
      ],
      "metadata": {
        "colab": {
          "base_uri": "https://localhost:8080/"
        },
        "id": "ktRMRQUVsY-z",
        "outputId": "06f9ae3e-cdfc-411d-cd5d-dd6c43186db1"
      },
      "execution_count": 120,
      "outputs": [
        {
          "output_type": "stream",
          "name": "stdout",
          "text": [
            "4.0\n",
            "VerificationType =  0\n",
            "0.0\n",
            "Gender =  0\n",
            "4.0\n",
            "Education =  0\n",
            "Worker\n",
            "EmploymentPosition =  0\n",
            "3.0\n",
            "EmploymentStatus =  0\n",
            "3.0\n",
            "MaritalStatus =  0\n",
            "1.0\n",
            "HomeOwnershipType =  0\n",
            "1.0\n",
            "OccupationArea =  0\n",
            "2024-12-27 00:00:00\n",
            "ContractEndDate =  0\n",
            "1.0\n",
            "RecoveryStage =  0\n",
            "6.0\n",
            "ModelVersion =  0\n",
            "E\n",
            "Rating =  0\n",
            "HR\n",
            "Rating_V0 =  0\n",
            "HR\n",
            "Rating_V1 =  0\n",
            "HR\n",
            "Rating_V2 =  0\n",
            "180+\n",
            "ActiveLateCategory =  0\n",
            "180+\n",
            "WorseLateCategory =  0\n",
            "M\n",
            "CreditScoreEsMicroL =  0\n",
            "B\n",
            "CreditScoreEsEquifaxRisk =  0\n",
            "MoreThan5Years\n",
            "EmploymentDurationCurrentEmployer =  0\n",
            "0\n",
            "NrOfDependants =  0\n"
          ]
        }
      ]
    },
    {
      "cell_type": "code",
      "source": [
        "data[\"Country\"].fillna(\"NotGiven\",inplace = True)\n",
        "data[\"City\"].fillna(\"NotGiven\",inplace = True)"
      ],
      "metadata": {
        "id": "9hzHChpj0J--"
      },
      "execution_count": 66,
      "outputs": []
    },
    {
      "cell_type": "code",
      "source": [
        "data[\"WorkExperience\"].fillna(0, inplace = True)\n",
        "data[\"WorkExperience\"].isnull().sum()\n"
      ],
      "metadata": {
        "id": "AZBEgNgQ5Qdo",
        "colab": {
          "base_uri": "https://localhost:8080/"
        },
        "outputId": "8eddea95-ab0e-4fc2-845f-9e8555bbe23b"
      },
      "execution_count": 67,
      "outputs": [
        {
          "output_type": "execute_result",
          "data": {
            "text/plain": [
              "0"
            ]
          },
          "metadata": {},
          "execution_count": 67
        }
      ]
    },
    {
      "cell_type": "code",
      "source": [
        "data[\"CurrentDebtDaysPrimary\"].mean()"
      ],
      "metadata": {
        "colab": {
          "base_uri": "https://localhost:8080/"
        },
        "id": "NhUmqPndMlkd",
        "outputId": "0c469827-0225-4816-a7e9-c7b66f45c563"
      },
      "execution_count": 77,
      "outputs": [
        {
          "output_type": "execute_result",
          "data": {
            "text/plain": [
              "593.4480192918093"
            ]
          },
          "metadata": {},
          "execution_count": 77
        }
      ]
    },
    {
      "cell_type": "code",
      "source": [
        "attr_list = [\"MonthlyPayment\",\"DebtToIncome\",\"FreeCash\",\"PlannedInterestTillDate\",\"PlannedPrincipalTillDate\",\"CurrentDebtDaysPrimary\",\"CurrentDebtDaysSecondary\",\"ExpectedLoss\",\"ExpectedReturn\",\"LossGivenDefault\",\"ProbabilityOfDefault\",\"PrincipalOverdueBySchedule\",\"PlannedPrincipalPostDefault\",\"PlannedInterestPostDefault\",\"EAD1\",\"EAD2\",\"PrincipalRecovery\",\"InterestRecovery\",\"EL_V0\",\"EL_V1\"]\n",
        "for i in attr_list:\n",
        "  mean_of_Attr = data[i].mean()\n",
        "  print (\"Mean_Value = \", mean_of_Attr)\n",
        "  data[i].fillna(mean_of_Attr, inplace = True)\n",
        "  print (i,\"null_value = \",data[i].isnull().sum())\n",
        "  "
      ],
      "metadata": {
        "id": "-bpBvqJ0Czhv",
        "colab": {
          "base_uri": "https://localhost:8080/"
        },
        "outputId": "4d9cedcb-5331-4f35-f316-182dc281095a"
      },
      "execution_count": 108,
      "outputs": [
        {
          "output_type": "stream",
          "name": "stdout",
          "text": [
            "Mean_Value =  113.16596176289126\n",
            "MonthlyPayment null_value =  0\n",
            "Mean_Value =  7.76642478573393\n",
            "DebtToIncome null_value =  0\n",
            "Mean_Value =  122.23911937479551\n",
            "FreeCash null_value =  0\n",
            "Mean_Value =  708.8837982425509\n",
            "PlannedInterestTillDate null_value =  0\n",
            "Mean_Value =  994.5580140729724\n",
            "PlannedPrincipalTillDate null_value =  0\n",
            "Mean_Value =  593.4480192918091\n",
            "CurrentDebtDaysPrimary null_value =  0\n",
            "Mean_Value =  612.7330526315789\n",
            "CurrentDebtDaysSecondary null_value =  0\n",
            "Mean_Value =  0.1492548107589651\n",
            "ExpectedLoss null_value =  0\n",
            "Mean_Value =  0.13655844788257313\n",
            "ExpectedReturn null_value =  0\n",
            "Mean_Value =  0.4090646832413614\n",
            "LossGivenDefault null_value =  0\n",
            "Mean_Value =  0.25243404896279753\n",
            "ProbabilityOfDefault null_value =  0\n",
            "Mean_Value =  232.9599184799318\n",
            "PrincipalOverdueBySchedule null_value =  0\n",
            "Mean_Value =  849.8386946289177\n",
            "PlannedPrincipalPostDefault null_value =  0\n",
            "Mean_Value =  1099.982242572527\n",
            "PlannedInterestPostDefault null_value =  0\n",
            "Mean_Value =  2351.471556206455\n",
            "EAD1 null_value =  0\n",
            "Mean_Value =  1909.2851403751597\n",
            "EAD2 null_value =  0\n",
            "Mean_Value =  336.21389291855996\n",
            "PrincipalRecovery null_value =  0\n",
            "Mean_Value =  15.150364972620299\n",
            "InterestRecovery null_value =  0\n",
            "Mean_Value =  0.19251874666228938\n",
            "EL_V0 null_value =  0\n",
            "Mean_Value =  0.18668671909592197\n",
            "EL_V1 null_value =  0\n"
          ]
        }
      ]
    },
    {
      "cell_type": "code",
      "source": [
        "Date_value = [\"LastPaymentOn\",\"DebtOccuredOn\",\"DebtOccuredOnForSecondary\",\"DefaultDate\",\"StageActiveSince\"]\n",
        "for i in Date_value:\n",
        "  data[i].fillna(\"Not Given\",inplace = True)\n",
        "  print(data[i].isnull().sum())"
      ],
      "metadata": {
        "colab": {
          "base_uri": "https://localhost:8080/"
        },
        "id": "oc2_ILc5s0BR",
        "outputId": "e4dd2176-8804-4b18-a28b-d91c47817f3a"
      },
      "execution_count": 131,
      "outputs": [
        {
          "output_type": "stream",
          "name": "stdout",
          "text": [
            "0\n",
            "0\n",
            "0\n",
            "0\n",
            "0\n"
          ]
        }
      ]
    },
    {
      "cell_type": "code",
      "source": [
        "data[\"LastPaymentOn\"].dropna()"
      ],
      "metadata": {
        "colab": {
          "base_uri": "https://localhost:8080/"
        },
        "id": "p_9ShcRitAln",
        "outputId": "d79e4928-0d43-4dca-fa7e-dc6c5df690fd"
      },
      "execution_count": 128,
      "outputs": [
        {
          "output_type": "execute_result",
          "data": {
            "text/plain": [
              "0         2010-07-06\n",
              "1         2009-07-07\n",
              "2         2012-10-01\n",
              "3         2010-09-15\n",
              "4         2015-07-16\n",
              "             ...    \n",
              "134524    2019-02-12\n",
              "134525    2019-02-07\n",
              "134526    2020-01-17\n",
              "134527    2019-12-20\n",
              "134528    2019-10-15\n",
              "Name: LastPaymentOn, Length: 124998, dtype: object"
            ]
          },
          "metadata": {},
          "execution_count": 128
        }
      ]
    },
    {
      "cell_type": "code",
      "source": [
        "data[\"Country\"].isnull().sum()"
      ],
      "metadata": {
        "colab": {
          "base_uri": "https://localhost:8080/"
        },
        "id": "TOxy9wxotn0l",
        "outputId": "dd512f95-2ce3-4abd-d2cd-cb3b214f73be"
      },
      "execution_count": 130,
      "outputs": [
        {
          "output_type": "execute_result",
          "data": {
            "text/plain": [
              "0"
            ]
          },
          "metadata": {},
          "execution_count": 130
        }
      ]
    },
    {
      "cell_type": "code",
      "source": [],
      "metadata": {
        "id": "b6py3Ba4CXYJ"
      },
      "execution_count": null,
      "outputs": []
    }
  ]
}